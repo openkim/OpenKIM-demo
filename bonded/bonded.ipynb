{
 "cells": [
  {
   "cell_type": "markdown",
   "metadata": {},
   "source": [
    "## Bonded force field example: Alpha-Quartz using IFF force field\n",
    "\n",
    "![Alpha-Quartz simulation cell](image.png)\n",
    "\n",
    "This version of the tutorial binder has been built with the in-development branch of LAMMPS allowing special-purpose KIM models that use [LAMMPS type labels](https://docs.lammps.org/Howto_type_labels.html) to work. Let's look at simulating this sytem in LAMMPS without KIM first.\n",
    "\n",
    "Input file:\n",
    "<button data-commandLinker-command=\"docmanager:open\" data-commandlinker-args='{\"path\":\"openkim-demo/bonded/in.quartz.iff.lammps\"}'>View `in.quartz.iff.lammps` in editor</button>\n",
    "\n",
    "Data file:\n",
    "<button data-commandLinker-command=\"docmanager:open\" data-commandlinker-args='{\"path\":\"openkim-demo/bonded/quartz.iff.data\"}'>View `quartz.iff.data` in editor</button>\n",
    "\n",
    "Run the computation:"
   ]
  },
  {
   "cell_type": "code",
   "execution_count": null,
   "metadata": {},
   "outputs": [],
   "source": [
    "!lmp -in in.quartz.iff.lammps"
   ]
  },
  {
   "cell_type": "markdown",
   "metadata": {},
   "source": [
    "Now let's look at the input file for the same simulation using OpenKIM:\n",
    "<button data-commandLinker-command=\"docmanager:open\" data-commandlinker-args='{\"path\":\"openkim-demo/bonded/in.quartz.iff.kim.lammps\"}'>View `in.quartz.iff.kim.lammps` in editor</button>\n",
    "\n",
    "As you can see, the large number of commands required to define the interaction types is eliminated and encapsulated in the KIM Simulator Model. Unlike for interatomic potentials, because a bonded simulation with KIM requires atom types to be defined, the `kim interactions` command is issued with the `fixed_types` argument instead of an atom type mapping.\n",
    "\n",
    "We can see that the data file for the KIM simulation has atom, bond, angle and dihedral types defined, and lacks masses and interaction coefficients, as these are encapsulated in the Simulator Model:\n",
    "<button data-commandLinker-command=\"docmanager:open\" data-commandlinker-args='{\"path\":\"openkim-demo/bonded/quartz.iff.kim.data\"}'>View `quartz.iff.kim.data` in editor</button>\n",
    "\n",
    "Because this is an in-development feature, this Simulator Model is not yet published on [openkim.org](openkim.org) and is included here as a local package. This gives us an opportunity to examine the anatomy of a KIM Simulator Model in general and for a bonded FF specifically:"
   ]
  },
  {
   "cell_type": "code",
   "execution_count": null,
   "metadata": {},
   "outputs": [],
   "source": [
    "!ls Sim_LAMMPS_IFF_HeinzLinMishra_2023_CHARMM_GUI__SM_000000871513_000"
   ]
  },
  {
   "cell_type": "markdown",
   "metadata": {},
   "source": [
    "* `CMakeLists.txt` is used by the KIM API to build the item\n",
    "* `kimspec.edn` is a metadata file associated with every item in OpenKIM\n",
    "* `smspec.edn` defines this simulator model (see [https://kim-api.readthedocs.io/en/latest/implementation.html#kim_api_smi](https://kim-api.readthedocs.io/en/latest/implementation.html#kim_api_smi) for more info). A closer look shows how it encapsulates LAMMPS commands, including conditionals for different simulation conditions: <button data-commandLinker-command=\"docmanager:open\" data-commandlinker-args='{\"path\":\"openkim-demo/bonded/Sim_LAMMPS_IFF_HeinzLinMishra_2023_CHARMM_GUI__SM_000000871513_000/smspec.edn\"}'>View `smspec.edn` in editor</button>\n",
    "* `iff.lammps` parametrizes every atom type and interaction included in this force field: <button data-commandLinker-command=\"docmanager:open\" data-commandlinker-args='{\"path\":\"openkim-demo/bonded/Sim_LAMMPS_IFF_HeinzLinMishra_2023_CHARMM_GUI__SM_000000871513_000/iff.lammps\"}'>View `iff.lammps` in editor</button>\n",
    "\n",
    "LAMMPS atom types and if statements allow for a straighforward way to issue coefficients and masses for only the atom types and interactions present in the simulation.\n",
    "\n",
    "We can build and install the local model in the same exact way as a model from [openkim.org](openkim.org):"
   ]
  },
  {
   "cell_type": "code",
   "execution_count": null,
   "metadata": {},
   "outputs": [],
   "source": [
    "!kim-api-collections-management install user Sim_LAMMPS_IFF_HeinzLinMishra_2023_CHARMM_GUI__SM_000000871513_000"
   ]
  },
  {
   "cell_type": "markdown",
   "metadata": {},
   "source": [
    "Now that the model is installed, we can run the KIM version of the simulation, and get identical results:"
   ]
  },
  {
   "cell_type": "code",
   "execution_count": null,
   "metadata": {},
   "outputs": [],
   "source": [
    "!lmp -in in.quartz.iff.kim.lammps"
   ]
  }
 ],
 "metadata": {
  "kernelspec": {
   "display_name": "Python 3",
   "language": "python",
   "name": "python3"
  },
  "language_info": {
   "codemirror_mode": {
    "name": "ipython",
    "version": 3
   },
   "file_extension": ".py",
   "mimetype": "text/x-python",
   "name": "python",
   "nbconvert_exporter": "python",
   "pygments_lexer": "ipython3",
   "version": "3.8.10"
  },
  "orig_nbformat": 4
 },
 "nbformat": 4,
 "nbformat_minor": 2
}
