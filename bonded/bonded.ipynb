{
 "cells": [
  {
   "cell_type": "markdown",
   "metadata": {},
   "source": [
    "## Bonded force field example: Alpha-Quartz using IFF force field\n",
    "\n",
    "![Alpha-Quartz simulation cell](image.png)\n",
    "\n",
    "This notebook demonstrates the use of special-purpose bonded KIM models that use [LAMMPS type labels](https://docs.lammps.org/Howto_type_labels.html) to work. Let's look at simulating this sytem in LAMMPS without KIM first.\n",
    "\n",
    "Input file:\n",
    "<button data-commandLinker-command=\"docmanager:open\" data-commandlinker-args='{\"path\":\"openkim-demo/bonded/in.quartz.iff.lammps\"}'>View `in.quartz.iff.lammps` in editor</button>\n",
    "\n",
    "Data file:\n",
    "<button data-commandLinker-command=\"docmanager:open\" data-commandlinker-args='{\"path\":\"openkim-demo/bonded/quartz.iff.data\"}'>View `quartz.iff.data` in editor</button>\n",
    "\n",
    "Run the computation:"
   ]
  },
  {
   "cell_type": "code",
   "execution_count": null,
   "metadata": {},
   "outputs": [],
   "source": [
    "!lmp -in in.quartz.iff.lammps"
   ]
  },
  {
   "cell_type": "markdown",
   "metadata": {},
   "source": [
    "Now let's look at the input file for the same simulation using OpenKIM:\n",
    "<button data-commandLinker-command=\"docmanager:open\" data-commandlinker-args='{\"path\":\"openkim-demo/bonded/in.quartz.iff.kim.lammps\"}'>View `in.quartz.iff.kim.lammps` in editor</button>\n",
    "\n",
    "As you can see, the large number of commands required to define the interaction types is eliminated and encapsulated in the KIM Simulator Model. Unlike for interatomic potentials, because a bonded simulation with KIM requires atom types to be defined, the `kim interactions` command is issued with the `fixed_types` argument instead of an atom type mapping.\n",
    "\n",
    "We can see that the data file for the KIM simulation has atom, bond, angle and dihedral types defined, and lacks masses and interaction coefficients, as these are encapsulated in the Simulator Model:\n",
    "<button data-commandLinker-command=\"docmanager:open\" data-commandlinker-args='{\"path\":\"openkim-demo/bonded/quartz.iff.kim.data\"}'>View `quartz.iff.kim.data` in editor</button>\n",
    "\n",
    "Install the required model:"
   ]
  },
  {
   "cell_type": "code",
   "execution_count": null,
   "metadata": {},
   "outputs": [],
   "source": [
    "!kim-api-collections-management install user Sim_LAMMPS_IFF_CHARMM_GUI_HeinzLinMishra_2023_Nanomaterials__SM_232384752957_000"
   ]
  },
  {
   "cell_type": "markdown",
   "metadata": {},
   "source": [
    "Now that the model is installed, we can run the KIM version of the simulation, and get identical results:"
   ]
  },
  {
   "cell_type": "code",
   "execution_count": null,
   "metadata": {},
   "outputs": [],
   "source": [
    "!lmp -in in.quartz.iff.kim.lammps"
   ]
  }
 ],
 "metadata": {
  "kernelspec": {
   "display_name": "Python 3",
   "language": "python",
   "name": "python3"
  },
  "language_info": {
   "codemirror_mode": {
    "name": "ipython",
    "version": 3
   },
   "file_extension": ".py",
   "mimetype": "text/x-python",
   "name": "python",
   "nbconvert_exporter": "python",
   "pygments_lexer": "ipython3",
   "version": "3.8.10"
  },
  "orig_nbformat": 4
 },
 "nbformat": 4,
 "nbformat_minor": 2
}
