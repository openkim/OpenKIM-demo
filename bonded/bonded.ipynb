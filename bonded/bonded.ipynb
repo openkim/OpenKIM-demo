{
 "cells": [
  {
   "cell_type": "markdown",
   "metadata": {},
   "source": [
    "## Bonded force field example: Alpha-Quartz using IFF force field\n",
    "\n",
    "This version of the tutorial binder has been built with the in-development branch of LAMMPS allowing special-purpose KIM models that use type labels to work. Let's look at simulating this sytem in LAMMPS without KIM first.\n",
    "\n",
    "Input file:\n",
    "<button data-commandLinker-command=\"docmanager:open\" data-commandlinker-args='{\"path\":\"openkim-demo/bonded/in.quartz.iff.lammps\"}'>View `in.quartz.iff.lammps` in editor</button>\n",
    "\n",
    "Data file:\n",
    "<button data-commandLinker-command=\"docmanager:open\" data-commandlinker-args='{\"path\":\"openkim-demo/bonded/quartz.iff.data\"}'>View `quartz.iff.data` in editor</button>\n",
    "\n",
    "Run the computation:"
   ]
  },
  {
   "cell_type": "code",
   "execution_count": null,
   "metadata": {
    "vscode": {
     "languageId": "plaintext"
    }
   },
   "outputs": [],
   "source": [
    "!lmp -in in.quartz.iff.lammps"
   ]
  },
  {
   "cell_type": "markdown",
   "metadata": {},
   "source": [
    "Now let's look at the input file for the same simulation using OpenKIM:\n",
    "<button data-commandLinker-command=\"docmanager:open\" data-commandlinker-args='{\"path\":\"openkim-demo/bonded/in.quartz.iff.kim.lammps\"}'>View `in.quartz.iff.kim.lammps` in editor</button>\n",
    "\n",
    "As you can see, the large number of commands required to define the interaction types is eliminated and encapsulated in the KIM Simulator Model.\n",
    "\n",
    "The data file is also changed when using OpenKIM:\n",
    "<button data-commandLinker-command=\"docmanager:open\" data-commandlinker-args='{\"path\":\"openkim-demo/bonded/quartz.iff.kim.data\"}'>View `quartz.iff.kim.data` in editor</button>\n"
   ]
  }
 ],
 "metadata": {
  "language_info": {
   "name": "python"
  },
  "orig_nbformat": 4
 },
 "nbformat": 4,
 "nbformat_minor": 2
}
