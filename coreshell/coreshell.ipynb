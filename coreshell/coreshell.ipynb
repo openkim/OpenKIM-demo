{
 "cells": [
  {
   "cell_type": "markdown",
   "metadata": {},
   "source": [
    "## Core-shell model example\n",
    "\n",
    "This version of the tutorial binder has been built with the in-development branch of LAMMPS allowing special-purpose KIM models that use type labels to work. One such model is already online, the Core-Shell model for NaCl that is shipped as a LAMMPS example. Install that model now:"
   ]
  },
  {
   "cell_type": "code",
   "execution_count": null,
   "metadata": {},
   "outputs": [],
   "source": [
    "!kim-api-collections-management install user Sim_LAMMPS_CoreShell_MitchellFincham_1993_NaCl__SM_672022050407_000"
   ]
  },
  {
   "cell_type": "markdown",
   "metadata": {},
   "source": [
    "Take a look at the input for the non-KIM version of the input file:"
   ]
  },
  {
   "cell_type": "code",
   "execution_count": null,
   "metadata": {},
   "outputs": [],
   "source": [
    "!cat in.coreshell"
   ]
  },
  {
   "cell_type": "markdown",
   "metadata": {},
   "source": [
    "And compare to the KIM version:"
   ]
  },
  {
   "cell_type": "code",
   "execution_count": null,
   "metadata": {},
   "outputs": [],
   "source": [
    "!cat in.kim-bonded.coreshell"
   ]
  },
  {
   "cell_type": "markdown",
   "metadata": {},
   "source": [
    "Feel free to run and compare both versions:"
   ]
  },
  {
   "cell_type": "code",
   "execution_count": null,
   "metadata": {},
   "outputs": [],
   "source": [
    "!lmp<in.coreshell"
   ]
  },
  {
   "cell_type": "code",
   "execution_count": null,
   "metadata": {},
   "outputs": [],
   "source": [
    "!lmp<in.kim-bonded.coreshell"
   ]
  },
  {
   "cell_type": "markdown",
   "metadata": {},
   "source": [
    "The results should be identical. The only additional requirement is that the KIM model has to have the correct type labels defined in its data file (or in the input file using the labelmap command):"
   ]
  },
  {
   "cell_type": "code",
   "execution_count": null,
   "metadata": {},
   "outputs": [],
   "source": [
    "!cat data.kim-bonded.coreshell"
   ]
  },
  {
   "cell_type": "markdown",
   "metadata": {},
   "source": [
    "The required type labels can be seen on the model's page on OpenKIM: https://openkim.org/id/Sim_LAMMPS_CoreShell_MitchellFincham_1993_NaCl__SM_672022050407_000\n",
    "\n",
    "It is required that bonds, angles, etc. are labeled after their constituent atoms separated by a dash."
   ]
  }
 ],
 "metadata": {
  "language_info": {
   "name": "python"
  },
  "orig_nbformat": 4
 },
 "nbformat": 4,
 "nbformat_minor": 2
}
