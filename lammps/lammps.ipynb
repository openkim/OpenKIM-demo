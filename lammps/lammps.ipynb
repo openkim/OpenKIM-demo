{
 "cells": [
  {
   "attachments": {},
   "cell_type": "markdown",
   "metadata": {},
   "source": [
    "## Using OpenKIM models in LAMMPS\n",
    "\n",
    "This notebook demonstrates use of OpenKIM models in LAMMPS and some utilities available as LAMMPS subcommands. Documentation on the implementation of these features in LAMMPS can be found here: [LAMMPS `kim` command](https://docs.lammps.org/kim_commands.html). Subsections of this documentation are referenced thoughout the notebook where relevant."
   ]
  },
  {
   "cell_type": "markdown",
   "metadata": {},
   "source": [
    "For comparison, we begin with a non-KIM LAMMPS script for a single energy/force evaluation (i.e. a `run 0` script) of bulk iron oxide in the rock-salt structure. A user running this simulation would need to obtain their own parameter file and specify the lattice constant in the input script:\n",
    "\n",
    "<button data-commandLinker-command=\"docmanager:open\" data-commandlinker-args='{\"path\":\"openkim-demo/lammps/in.FeO.tersoff.lammps\"}'>View `in.FeO.tersoff.lammps` in editor</button>\n",
    "\n",
    "Run the computation:"
   ]
  },
  {
   "cell_type": "code",
   "execution_count": null,
   "metadata": {},
   "outputs": [],
   "source": [
    "!lmp -in in.FeO.tersoff.lammps"
   ]
  },
  {
   "cell_type": "markdown",
   "metadata": {},
   "source": [
    "To contextualize these simple calculations, we can visualize the structure we are evaluating the forces and energies on. The box indicates the simulation domain, atoms outside the box are repeated for clarity."
   ]
  },
  {
   "cell_type": "code",
   "execution_count": null,
   "metadata": {},
   "outputs": [],
   "source": [
    "from ase.io import read\n",
    "from ase.visualize import view\n",
    "atoms = read('FeO.tersoff.data.tmp',format=\"lammps-data\",style=\"atomic\",Z_of_type={1:26,2:8}).repeat(2)\n",
    "atoms.set_cell(0.5*atoms.get_cell())\n",
    "view(atoms,viewer='ngl')"
   ]
  },
  {
   "cell_type": "markdown",
   "metadata": {},
   "source": [
    "Now let's look at the same simulation set up with OpenKIM. Initialization and setup of the atomic interactions is handled by the `kim init` and `kim interactions` commands ([LAMMPS documentation](https://docs.lammps.org/kim_commands.html#using-openkim-ims-with-lammps-kim-init-kim-interactions))\n",
    "\n",
    "<button data-commandLinker-command=\"docmanager:open\" data-commandlinker-args='{\"path\":\"openkim-demo/lammps/in.FeO.tersoff.kim.lammps\"}'>View `in.FeO.tersoff.kim.lammps` in editor</button>\n",
    "\n",
    "Run the computation:"
   ]
  },
  {
   "cell_type": "code",
   "execution_count": null,
   "metadata": {},
   "outputs": [],
   "source": [
    "!lmp -in in.FeO.tersoff.kim.lammps"
   ]
  },
  {
   "cell_type": "markdown",
   "metadata": {},
   "source": [
    "The results of the two computations are identical. Note also that KIM prints brief citation information for the potential to the screen and detailed BibTeX-formatted citations to the LAMMPS log file.\n",
    "\n",
    "You may have noticed that there is a finite pressure in this configuration. This is because the lattice constant for cubic FeO was taken from a DFT calculation and is not the equilibrium value for the interatomic potential we are using. We can use the `kim query` LAMMPS command to obtain the correct equilibrium lattice constant for this potential from the OpenKIM repository:\n",
    "\n",
    "<button data-commandLinker-command=\"docmanager:open\" data-commandlinker-args='{\"path\":\"openkim-demo/lammps/in.FeO.tersoff.kim.query.lammps\"}'>View `in.FeO.tersoff.kim.query.lammps` in editor</button>\n",
    "\n",
    "If we run the simulation, we see that the pressure is now nearly zero and the energy is slightly lower:"
   ]
  },
  {
   "cell_type": "code",
   "execution_count": null,
   "metadata": {},
   "outputs": [],
   "source": [
    "!lmp -in in.FeO.tersoff.kim.query.lammps"
   ]
  },
  {
   "cell_type": "markdown",
   "metadata": {},
   "source": [
    "Let's try to run the same bulk silicon calculation with a different OpenKIM model, in this case a ReaxFF potential:\n",
    "\n",
    "<button data-commandLinker-command=\"docmanager:open\" data-commandlinker-args='{\"path\":\"openkim-demo/lammps/in.FeO.reax.kim.query.lammps\"}'>View `in.FeO.tersoff.kim.query.lammps` in editor</button>\n",
    "\n"
   ]
  }
 ],
 "metadata": {
  "kernelspec": {
   "display_name": "Python 3",
   "language": "python",
   "name": "python3"
  },
  "language_info": {
   "codemirror_mode": {
    "name": "ipython",
    "version": 3
   },
   "file_extension": ".py",
   "mimetype": "text/x-python",
   "name": "python",
   "nbconvert_exporter": "python",
   "pygments_lexer": "ipython3",
   "version": "3.8.10"
  },
  "orig_nbformat": 4
 },
 "nbformat": 4,
 "nbformat_minor": 2
}
