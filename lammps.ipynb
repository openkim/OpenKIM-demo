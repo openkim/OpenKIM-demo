{
 "cells": [
  {
   "attachments": {},
   "cell_type": "markdown",
   "metadata": {},
   "source": [
    "## Using OpenKIM models in LAMMPS\n",
    "\n",
    "This example demonstrates using an OpenKIM model installed on your system in a LAMMPS simulation, specifically a static energy calculation of FCC Aluminum using the famous 1994 Ercolessi-Adams EAM potential. The [KIM query](https://openkim.org/doc/usage/kim-query/) feature is used to obtain the lattice constant used for the simulation."
   ]
  },
  {
   "cell_type": "markdown",
   "metadata": {},
   "source": [
    "This is what the LAMMPS script would look like without OpenKIM. The user is required to specify the lattice constant and obtain their own parameter file:"
   ]
  },
  {
   "cell_type": "code",
   "execution_count": null,
   "metadata": {},
   "outputs": [],
   "source": [
    "!cat in-std.lammps"
   ]
  },
  {
   "cell_type": "markdown",
   "metadata": {},
   "source": [
    "Run the computation:"
   ]
  },
  {
   "cell_type": "code",
   "execution_count": null,
   "metadata": {},
   "outputs": [],
   "source": [
    "!lmp<in-std.lammps"
   ]
  },
  {
   "cell_type": "markdown",
   "metadata": {},
   "source": [
    "Now let's look at the same simulation set up with OpenKIM:"
   ]
  },
  {
   "cell_type": "code",
   "execution_count": null,
   "metadata": {},
   "outputs": [],
   "source": [
    "!cat in-kim.lammps"
   ]
  },
  {
   "cell_type": "markdown",
   "metadata": {},
   "source": [
    "Here, the lattice constant is obtained automatically by querying results from a KIM test archived on OpenKIM.org, and the model is specified as a KIM item instead of a parameter file. Now we can run the simulation:"
   ]
  },
  {
   "cell_type": "code",
   "execution_count": null,
   "metadata": {},
   "outputs": [],
   "source": [
    "!lmp<in-kim.lammps"
   ]
  },
  {
   "cell_type": "markdown",
   "metadata": {},
   "source": [
    "As you can see, the results are nearly identical, but the energy and pressure are lower due to the lattice constant being the perfect equilibrium value. The [LAMMPS kim command](https://docs.lammps.org/kim_commands.html) also prints citation information for the model to the output automatically. See the linked documentation for more LAMMPS KIM features, such as other queries, unit conversion, accessing model parameters and automatically writing properties for KIM test development."
   ]
  },
  {
   "cell_type": "markdown",
   "metadata": {},
   "source": [
    "## Core-shell model example\n",
    "\n",
    "This version of the tutorial binder has been built with the in-development branch of LAMMPS allowing special-purpose KIM models that use type labels to work. One such model is already online, the Core-Shell model for NaCl that is shipped as a LAMMPS example. Install that model now:"
   ]
  },
  {
   "cell_type": "code",
   "execution_count": null,
   "metadata": {},
   "outputs": [],
   "source": [
    "!kim-api-collections-management install user Sim_LAMMPS_CoreShell_MitchellFincham_1993_NaCl__SM_672022050407_000"
   ]
  },
  {
   "cell_type": "markdown",
   "metadata": {},
   "source": [
    "Take a look at the input for the non-KIM version of the input file:"
   ]
  },
  {
   "cell_type": "code",
   "execution_count": null,
   "metadata": {},
   "outputs": [],
   "source": [
    "!cat coreshell/in.coreshell"
   ]
  },
  {
   "cell_type": "markdown",
   "metadata": {},
   "source": [
    "And compare to the KIM version:"
   ]
  },
  {
   "cell_type": "code",
   "execution_count": null,
   "metadata": {},
   "outputs": [],
   "source": [
    "!cat coreshell/in.kim-bonded.coreshell"
   ]
  },
  {
   "cell_type": "markdown",
   "metadata": {},
   "source": [
    "Feel free to run and compare both versions:"
   ]
  },
  {
   "cell_type": "code",
   "execution_count": null,
   "metadata": {},
   "outputs": [],
   "source": [
    "!lmp<coreshell/in.coreshell"
   ]
  },
  {
   "cell_type": "code",
   "execution_count": null,
   "metadata": {},
   "outputs": [],
   "source": [
    "!lmp<coreshell/in.kim-bonded.coreshell"
   ]
  },
  {
   "cell_type": "markdown",
   "metadata": {},
   "source": [
    "The results should be identical. The only additional requirement is that the KIM model has to have the correct type labels defined in its data file (or in the input file using the labelmap command):"
   ]
  },
  {
   "cell_type": "code",
   "execution_count": null,
   "metadata": {},
   "outputs": [],
   "source": [
    "!cat coreshell/data.kim-bonded.coreshell"
   ]
  },
  {
   "cell_type": "markdown",
   "metadata": {},
   "source": [
    "The required type labels can be seen on the model's page on OpenKIM: https://openkim.org/id/Sim_LAMMPS_CoreShell_MitchellFincham_1993_NaCl__SM_672022050407_000\n",
    "\n",
    "It is required that bonds, angles, etc. are labeled after their constituent atoms separated by a dash."
   ]
  }
 ],
 "metadata": {
  "kernelspec": {
   "display_name": "Python 3",
   "language": "python",
   "name": "python3"
  },
  "language_info": {
   "codemirror_mode": {
    "name": "ipython",
    "version": 3
   },
   "file_extension": ".py",
   "mimetype": "text/x-python",
   "name": "python",
   "nbconvert_exporter": "python",
   "pygments_lexer": "ipython3",
   "version": "3.8.10"
  },
  "orig_nbformat": 4
 },
 "nbformat": 4,
 "nbformat_minor": 2
}
