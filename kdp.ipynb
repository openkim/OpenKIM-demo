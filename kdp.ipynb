{
 "cells": [
  {
   "cell_type": "markdown",
   "metadata": {},
   "source": [
    "## KIM Content development using the KIM Developer Platform\n",
    "\n",
    "Everything we have done so far can be performed on any system with the KIM API, packages, and simulators installed. However, this Binder is based on the [KIM Developer Platform (KDP)](https://openkim.org/doc/evaluation/kim-developer-platform/), a Docker image for KIM development.\n",
    "\n",
    "So far, we have been installing models using `kim-api-collections-management`, which only retains the binaries for use. Let's install a Tersoff potential for carbon using the `kimitems` utility, which is only available in the KDP:"
   ]
  },
  {
   "cell_type": "code",
   "execution_count": null,
   "metadata": {},
   "outputs": [],
   "source": [
    "!kimitems install -D Tersoff_LAMMPS_Tersoff_1988_C__MO_579868029681_004"
   ]
  },
  {
   "cell_type": "markdown",
   "metadata": {},
   "source": [
    "It is installed in a developer-friendly location, `/home/openkim/models`:"
   ]
  },
  {
   "cell_type": "code",
   "execution_count": null,
   "metadata": {},
   "outputs": [],
   "source": [
    "!ls /home/openkim/models/Tersoff_LAMMPS_Tersoff_1988_C__MO_579868029681_004"
   ]
  },
  {
   "cell_type": "markdown",
   "metadata": {},
   "source": [
    "The primary purpose of the KDP is to emulate the functionality of the OpenKIM pipeline by matching and running tests and verification checks. Install some tests now. The command is able to interpret incomplete names:"
   ]
  },
  {
   "cell_type": "code",
   "execution_count": null,
   "metadata": {},
   "outputs": [],
   "source": [
    "!kimitems install -D LatticeConstantCubicEnergy_diamond_C_\n",
    "!kimitems install -D ElasticConstantsCubic_diamond_C_"
   ]
  },
  {
   "cell_type": "markdown",
   "metadata": {},
   "source": [
    "We can run the tests using the `pipeline-run-matches`, `pipeline-run-pair`, or `pipeline-run-verification-checks` utilities. These support wildcards:"
   ]
  },
  {
   "cell_type": "code",
   "execution_count": null,
   "metadata": {},
   "outputs": [],
   "source": [
    "!pipeline-run-matches Tersoff*"
   ]
  },
  {
   "cell_type": "markdown",
   "metadata": {},
   "source": [
    "The test output, including auxiliary files and the `results.edn` files containing the property predictions, are saved to a local directory:"
   ]
  },
  {
   "cell_type": "code",
   "execution_count": null,
   "metadata": {},
   "outputs": [],
   "source": [
    "!ls /home/openkim/test-results"
   ]
  },
  {
   "cell_type": "markdown",
   "metadata": {},
   "source": [
    "Now let's see a simple example of using the KDP to modify and test KIM models. Let's say we found a parametrization error and wanted to create a new version of the model. We will copy the old model to a new directory to begin modifying it, and remove the build files:"
   ]
  },
  {
   "cell_type": "code",
   "execution_count": null,
   "metadata": {},
   "outputs": [],
   "source": [
    "!cp -r /home/openkim/models/Tersoff_LAMMPS_Tersoff_1988_C__MO_579868029681_004 /home/openkim/models/Tersoff_LAMMPS_Tersoff_1988_C__MO_579868029681_005\n",
    "!rm -r /home/openkim/models/Tersoff_LAMMPS_Tersoff_1988_C__MO_579868029681_005/build"
   ]
  },
  {
   "cell_type": "markdown",
   "metadata": {},
   "source": [
    "`CMakeLists.txt` and the metadata file `kimspec.edn` contain several references to the model name. Let's update it with the new name we chose. If we were making a more involved modification, like using a model as a template for a brand new model, the modifications would be more involved:"
   ]
  },
  {
   "cell_type": "code",
   "execution_count": null,
   "metadata": {},
   "outputs": [],
   "source": [
    "!sed -i 's/MO_579868029681_004/MO_579868029681_005/' /home/openkim/models/Tersoff_LAMMPS_Tersoff_1988_C__MO_579868029681_005/*"
   ]
  },
  {
   "cell_type": "markdown",
   "metadata": {},
   "source": [
    "Imagine we found out that the parameter `R`, related to the cutoff, is incorrect, and needs to be increased by 0.1. Each model has a different file format. In this case, by reading the KIM documentation for the test driver:\n",
    "https://openkim.org/files/MD_077075034781_005/README\n",
    "we find out that the parameter file follows the LAMMPS format, and `R` is the fourth-to-last parameter:\n",
    "https://docs.lammps.org/pair_tersoff.html\n",
    "Let's look at the unmodified file:"
   ]
  },
  {
   "cell_type": "code",
   "execution_count": null,
   "metadata": {},
   "outputs": [],
   "source": [
    "!cat /home/openkim/models/Tersoff_LAMMPS_Tersoff_1988_C__MO_579868029681_005/Tersoff_1988_C.params"
   ]
  },
  {
   "cell_type": "markdown",
   "metadata": {},
   "source": [
    "We see that the old value is 1.95. Let's replace it with 2.05:"
   ]
  },
  {
   "cell_type": "code",
   "execution_count": null,
   "metadata": {},
   "outputs": [],
   "source": [
    "!sed -i 's/ 1.95 / 2.05 /' /home/openkim/models/Tersoff_LAMMPS_Tersoff_1988_C__MO_579868029681_005/Tersoff_1988_C.params"
   ]
  },
  {
   "cell_type": "markdown",
   "metadata": {},
   "source": [
    "Let's try to re-run the elastic constants test. If the model is not built, it will automatically do so:"
   ]
  },
  {
   "cell_type": "code",
   "execution_count": null,
   "metadata": {},
   "outputs": [],
   "source": [
    "!pipeline-run-pair ElasticConstantsCubic_diamond_C_* Tersoff_LAMMPS_Tersoff_1988_C__MO_579868029681_005"
   ]
  },
  {
   "cell_type": "markdown",
   "metadata": {},
   "source": [
    "This causes an error! More detailed information can be found by browing the files in `/home/openkim/errors`. The issue here is that the ElasticConstants tests depends on the LatticeConstant test. Normally, the test driver queries openkim.org for this dependency, but we are using a new model that is not in the online repository. To remedy this, we need to instruct the KDP to save to and read from a local MongoDB:"
   ]
  },
  {
   "cell_type": "code",
   "execution_count": null,
   "metadata": {},
   "outputs": [],
   "source": [
    "!pipeline-database set local"
   ]
  },
  {
   "cell_type": "markdown",
   "metadata": {},
   "source": [
    "Now, we can re-run the tests in the correct order, and they will run successfully:"
   ]
  },
  {
   "cell_type": "code",
   "execution_count": null,
   "metadata": {},
   "outputs": [],
   "source": [
    "!pipeline-run-pair LatticeConstantCubicEnergy_diamond_C_* Tersoff_LAMMPS_Tersoff_1988_C__MO_579868029681_005\n",
    "!pipeline-run-pair ElasticConstantsCubic_diamond_C_* Tersoff_LAMMPS_Tersoff_1988_C__MO_579868029681_005"
   ]
  },
  {
   "cell_type": "markdown",
   "metadata": {},
   "source": [
    "When using the local database, it can be queried from the local file:"
   ]
  },
  {
   "cell_type": "code",
   "execution_count": null,
   "metadata": {},
   "outputs": [],
   "source": [
    "from montydb import MontyClient\n",
    "from bson.json_util import dumps, loads\n",
    "client = MontyClient(\"/pipeline/db\", cache_modified=0)\n",
    "db = client.db\n",
    "query={\n",
    "    \"meta.type\":\"tr\",\n",
    "    'property-id':'tag:staff@noreply.openkim.org,2014-04-15:property/structure-cubic-crystal-npt',        \n",
    "}\n",
    "print(loads(dumps(db.data.find(query),default=str)))"
   ]
  }
 ],
 "metadata": {
  "kernelspec": {
   "display_name": "Python 3",
   "language": "python",
   "name": "python3"
  },
  "language_info": {
   "codemirror_mode": {
    "name": "ipython",
    "version": 3
   },
   "file_extension": ".py",
   "mimetype": "text/x-python",
   "name": "python",
   "nbconvert_exporter": "python",
   "pygments_lexer": "ipython3",
   "version": "3.8.10"
  }
 },
 "nbformat": 4,
 "nbformat_minor": 2
}
